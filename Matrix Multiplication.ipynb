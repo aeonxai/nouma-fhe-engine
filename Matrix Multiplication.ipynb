{
 "cells": [
  {
   "cell_type": "code",
   "execution_count": 1,
   "id": "07cc3e21-377a-401f-9ef3-10ebc5dcc86f",
   "metadata": {},
   "outputs": [],
   "source": [
    "import nouma"
   ]
  },
  {
   "cell_type": "code",
   "execution_count": 2,
   "id": "aeb6a322-f841-4d7b-8399-7a283a632097",
   "metadata": {},
   "outputs": [],
   "source": [
    "import numpy as np"
   ]
  },
  {
   "cell_type": "code",
   "execution_count": 3,
   "id": "9d667b21-63c4-4873-b5c9-edde50cdbf3b",
   "metadata": {},
   "outputs": [],
   "source": [
    "scale = 2 ** 40\n",
    "parms = nouma.EncryptionParameters.new(8192, [60, 40, 40, 40])"
   ]
  },
  {
   "cell_type": "code",
   "execution_count": 4,
   "id": "48f35f71-499c-4668-872c-f7736110833e",
   "metadata": {},
   "outputs": [],
   "source": [
    "context = nouma.Context(parms)\n",
    "keygen = nouma.KeyGenerator(context)\n",
    "secret_key = keygen.secret_key()\n",
    "public_key = keygen.public_key()\n",
    "relin_keys = keygen.relin_keys()\n",
    "gal_keys = keygen.galois_keys()"
   ]
  },
  {
   "cell_type": "code",
   "execution_count": 5,
   "id": "4fe8946f-4490-4d0f-a221-8e24b4203b72",
   "metadata": {},
   "outputs": [],
   "source": [
    "encoder = nouma.CKKSEncoder(context)\n",
    "encryptor = nouma.SymmetricEncryptor(context, secret_key)\n",
    "decryptor = nouma.Decryptor(context, secret_key)\n",
    "evaluator = nouma.Evaluator(context)"
   ]
  },
  {
   "cell_type": "code",
   "execution_count": 6,
   "id": "c46aea7b-3057-42c2-9915-ef288bb169f3",
   "metadata": {},
   "outputs": [],
   "source": [
    "A = np.array([\n",
    "    [1, 2, 3, 4],\n",
    "    [1, 2, 3, 4],\n",
    "    [1, 2, 3, 4],\n",
    "    [1, 2, 3, 4]\n",
    "], dtype=np.float64)"
   ]
  },
  {
   "cell_type": "code",
   "execution_count": 7,
   "id": "1e64b084-100b-4384-9c96-a7f389f9a894",
   "metadata": {},
   "outputs": [],
   "source": [
    "B = np.array([\n",
    "    [5, 6, 7, 8],\n",
    "    [5, 6, 7, 8],\n",
    "    [5, 6, 7, 8],\n",
    "    [5, 6, 7, 8]\n",
    "], dtype=np.float64)"
   ]
  },
  {
   "cell_type": "code",
   "execution_count": 8,
   "id": "77c5225b-3c29-4d37-851d-8926605d9ace",
   "metadata": {},
   "outputs": [
    {
     "data": {
      "text/plain": [
       "array([[50., 60., 70., 80.],\n",
       "       [50., 60., 70., 80.],\n",
       "       [50., 60., 70., 80.],\n",
       "       [50., 60., 70., 80.]])"
      ]
     },
     "execution_count": 8,
     "metadata": {},
     "output_type": "execute_result"
    }
   ],
   "source": [
    "A @ B"
   ]
  },
  {
   "cell_type": "code",
   "execution_count": 9,
   "id": "692a0141-9868-475f-9858-5474b5e156cf",
   "metadata": {},
   "outputs": [
    {
     "data": {
      "text/plain": [
       "array([1., 1., 1., 1.])"
      ]
     },
     "execution_count": 9,
     "metadata": {},
     "output_type": "execute_result"
    }
   ],
   "source": [
    "A[:, 0]"
   ]
  },
  {
   "cell_type": "code",
   "execution_count": 10,
   "id": "643aaa26-80e3-4182-9afb-736eba652e7c",
   "metadata": {},
   "outputs": [
    {
     "data": {
      "text/plain": [
       "array([2., 2., 2., 2.])"
      ]
     },
     "execution_count": 10,
     "metadata": {},
     "output_type": "execute_result"
    }
   ],
   "source": [
    "A[:, 1]"
   ]
  },
  {
   "cell_type": "code",
   "execution_count": 11,
   "id": "361ca2da-7dc7-4eeb-adc8-049daaa26bac",
   "metadata": {},
   "outputs": [
    {
     "data": {
      "text/plain": [
       "array([3., 3., 3., 3.])"
      ]
     },
     "execution_count": 11,
     "metadata": {},
     "output_type": "execute_result"
    }
   ],
   "source": [
    "A[:, 2]"
   ]
  },
  {
   "cell_type": "code",
   "execution_count": 12,
   "id": "87565af8-d955-4e09-a4c9-a23b40fdb804",
   "metadata": {},
   "outputs": [
    {
     "data": {
      "text/plain": [
       "array([4., 4., 4., 4.])"
      ]
     },
     "execution_count": 12,
     "metadata": {},
     "output_type": "execute_result"
    }
   ],
   "source": [
    "A[:, 3]"
   ]
  },
  {
   "cell_type": "code",
   "execution_count": 13,
   "id": "5f7139ba-6fe8-44b6-8740-dd6721a6cc68",
   "metadata": {},
   "outputs": [
    {
     "data": {
      "text/plain": [
       "array([5., 5., 5., 5.])"
      ]
     },
     "execution_count": 13,
     "metadata": {},
     "output_type": "execute_result"
    }
   ],
   "source": [
    "B[:, 0]"
   ]
  },
  {
   "cell_type": "code",
   "execution_count": 14,
   "id": "a7b2a432-b9e4-452e-a309-44b20dc1a3a5",
   "metadata": {},
   "outputs": [
    {
     "data": {
      "text/plain": [
       "array([6., 6., 6., 6.])"
      ]
     },
     "execution_count": 14,
     "metadata": {},
     "output_type": "execute_result"
    }
   ],
   "source": [
    "B[:, 1]"
   ]
  },
  {
   "cell_type": "code",
   "execution_count": 15,
   "id": "dbc8a9cd-7588-4a89-9a44-71b0ceefa062",
   "metadata": {},
   "outputs": [
    {
     "data": {
      "text/plain": [
       "array([7., 7., 7., 7.])"
      ]
     },
     "execution_count": 15,
     "metadata": {},
     "output_type": "execute_result"
    }
   ],
   "source": [
    "B[:, 2]"
   ]
  },
  {
   "cell_type": "code",
   "execution_count": 16,
   "id": "98411619-b763-4b49-a920-92be907b971c",
   "metadata": {},
   "outputs": [
    {
     "data": {
      "text/plain": [
       "array([8., 8., 8., 8.])"
      ]
     },
     "execution_count": 16,
     "metadata": {},
     "output_type": "execute_result"
    }
   ],
   "source": [
    "B[:, 3]"
   ]
  },
  {
   "cell_type": "code",
   "execution_count": 17,
   "id": "7f5fd4e3-d968-4ac7-a405-f690ac28d9b0",
   "metadata": {},
   "outputs": [],
   "source": [
    "Acol1 = A[:, 0]\n",
    "Acol2 = A[:, 1]\n",
    "Acol3 = A[:, 2]\n",
    "Acol4 = A[:, 3]"
   ]
  },
  {
   "cell_type": "code",
   "execution_count": 18,
   "id": "6de12286-ec8a-4c7b-a8b9-17a6cdeca430",
   "metadata": {},
   "outputs": [],
   "source": [
    "Bcol1 = B[:, 0]\n",
    "Bcol2 = B[:, 1]\n",
    "Bcol3 = B[:, 2]\n",
    "Bcol4 = B[:, 3]"
   ]
  },
  {
   "cell_type": "code",
   "execution_count": 19,
   "id": "d6e902ce-b22f-4558-9bca-3c3e8866f46a",
   "metadata": {},
   "outputs": [
    {
     "data": {
      "text/plain": [
       "array([50., 50., 50., 50.])"
      ]
     },
     "execution_count": 19,
     "metadata": {},
     "output_type": "execute_result"
    }
   ],
   "source": [
    "Acol1 * Bcol1 + Acol2 * Bcol1 + Acol3 * Bcol1 + Acol4 * Bcol1"
   ]
  },
  {
   "cell_type": "code",
   "execution_count": 20,
   "id": "752dbe63-3c99-429f-8d74-2a6d1df069d9",
   "metadata": {},
   "outputs": [
    {
     "data": {
      "text/plain": [
       "array([60., 60., 60., 60.])"
      ]
     },
     "execution_count": 20,
     "metadata": {},
     "output_type": "execute_result"
    }
   ],
   "source": [
    "Acol1 * Bcol2 + Acol2 * Bcol2 + Acol3 * Bcol2 + Acol4 * Bcol2"
   ]
  },
  {
   "cell_type": "code",
   "execution_count": 21,
   "id": "4e4d72b8-5fd5-4826-8fc7-8441c1cf1eb7",
   "metadata": {},
   "outputs": [
    {
     "data": {
      "text/plain": [
       "array([70., 70., 70., 70.])"
      ]
     },
     "execution_count": 21,
     "metadata": {},
     "output_type": "execute_result"
    }
   ],
   "source": [
    "Acol1 * Bcol3 + Acol2 * Bcol3 + Acol3 * Bcol3 + Acol4 * Bcol3"
   ]
  },
  {
   "cell_type": "code",
   "execution_count": 22,
   "id": "b84b0205-53ad-4ce0-83c8-129127dc388b",
   "metadata": {},
   "outputs": [
    {
     "data": {
      "text/plain": [
       "array([80., 80., 80., 80.])"
      ]
     },
     "execution_count": 22,
     "metadata": {},
     "output_type": "execute_result"
    }
   ],
   "source": [
    "Acol1 * Bcol4 + Acol2 * Bcol4 + Acol3 * Bcol4 + Acol4 * Bcol4"
   ]
  },
  {
   "cell_type": "code",
   "execution_count": 23,
   "id": "6b6e4be4-5bbe-420c-ace1-1a085f1aa026",
   "metadata": {},
   "outputs": [],
   "source": [
    "Acol1 = encryptor.encrypt(encoder.encode(Acol1, scale))\n",
    "Acol2 = encryptor.encrypt(encoder.encode(Acol2, scale))\n",
    "Acol3 = encryptor.encrypt(encoder.encode(Acol3, scale))\n",
    "Acol4 = encryptor.encrypt(encoder.encode(Acol4, scale))"
   ]
  },
  {
   "cell_type": "code",
   "execution_count": 24,
   "id": "7dd5605b-4207-4f5c-a30e-13116eb14f83",
   "metadata": {},
   "outputs": [],
   "source": [
    "Bcol1 = encryptor.encrypt(encoder.encode(Bcol1, scale))\n",
    "Bcol2 = encryptor.encrypt(encoder.encode(Bcol2, scale))\n",
    "Bcol3 = encryptor.encrypt(encoder.encode(Bcol3, scale))\n",
    "Bcol4 = encryptor.encrypt(encoder.encode(Bcol4, scale))"
   ]
  },
  {
   "cell_type": "code",
   "execution_count": 25,
   "id": "133bbdb7-8b5f-4b9a-b592-7a03c8ef43a3",
   "metadata": {},
   "outputs": [
    {
     "data": {
      "text/plain": [
       "<nouma.CiphertextList at 0x7fbb7c7137c0>"
      ]
     },
     "execution_count": 25,
     "metadata": {},
     "output_type": "execute_result"
    }
   ],
   "source": [
    "Ccol1 = evaluator.multiply(Acol1, Bcol1)\n",
    "evaluator.add_inplace(Ccol1, evaluator.multiply(Acol2, Bcol1))\n",
    "evaluator.add_inplace(Ccol1, evaluator.multiply(Acol3, Bcol1))\n",
    "evaluator.add_inplace(Ccol1, evaluator.multiply(Acol4, Bcol1))"
   ]
  },
  {
   "cell_type": "code",
   "execution_count": 26,
   "id": "e9b73f68-c98b-4379-bb9c-fc8ffc71aaf8",
   "metadata": {},
   "outputs": [
    {
     "data": {
      "text/plain": [
       "<nouma.CiphertextList at 0x7fbb7c758610>"
      ]
     },
     "execution_count": 26,
     "metadata": {},
     "output_type": "execute_result"
    }
   ],
   "source": [
    "Ccol2 = evaluator.multiply(Acol1, Bcol2)\n",
    "evaluator.add_inplace(Ccol2, evaluator.multiply(Acol2, Bcol2))\n",
    "evaluator.add_inplace(Ccol2, evaluator.multiply(Acol3, Bcol2))\n",
    "evaluator.add_inplace(Ccol2, evaluator.multiply(Acol4, Bcol2))"
   ]
  },
  {
   "cell_type": "code",
   "execution_count": 27,
   "id": "d10cd46b-f6f8-47f9-bac0-de5364c7ec4d",
   "metadata": {},
   "outputs": [
    {
     "data": {
      "text/plain": [
       "<nouma.CiphertextList at 0x7fbb7c75a470>"
      ]
     },
     "execution_count": 27,
     "metadata": {},
     "output_type": "execute_result"
    }
   ],
   "source": [
    "Ccol3 = evaluator.multiply(Acol1, Bcol3)\n",
    "evaluator.add_inplace(Ccol3, evaluator.multiply(Acol2, Bcol3))\n",
    "evaluator.add_inplace(Ccol3, evaluator.multiply(Acol3, Bcol3))\n",
    "evaluator.add_inplace(Ccol3, evaluator.multiply(Acol4, Bcol3))"
   ]
  },
  {
   "cell_type": "code",
   "execution_count": 28,
   "id": "0f891f4c-33b4-485e-916e-ad82d37866da",
   "metadata": {},
   "outputs": [
    {
     "data": {
      "text/plain": [
       "<nouma.CiphertextList at 0x7fbb7c758f40>"
      ]
     },
     "execution_count": 28,
     "metadata": {},
     "output_type": "execute_result"
    }
   ],
   "source": [
    "Ccol4 = evaluator.multiply(Acol1, Bcol4)\n",
    "evaluator.add_inplace(Ccol4, evaluator.multiply(Acol2, Bcol4))\n",
    "evaluator.add_inplace(Ccol4, evaluator.multiply(Acol3, Bcol4))\n",
    "evaluator.add_inplace(Ccol4, evaluator.multiply(Acol4, Bcol4))"
   ]
  },
  {
   "cell_type": "code",
   "execution_count": 29,
   "id": "c721a055-d7a6-4129-8f76-4aeeb59c30f6",
   "metadata": {},
   "outputs": [
    {
     "data": {
      "text/plain": [
       "array([50., 60., 70., 80.])"
      ]
     },
     "execution_count": 29,
     "metadata": {},
     "output_type": "execute_result"
    }
   ],
   "source": [
    "encoder.decode(decryptor.decrypt(Ccol1))"
   ]
  },
  {
   "cell_type": "code",
   "execution_count": 30,
   "id": "c88792e8-5d17-4302-b116-2cfacd4c6245",
   "metadata": {},
   "outputs": [
    {
     "data": {
      "text/plain": [
       "array([60., 70., 80., 50.])"
      ]
     },
     "execution_count": 30,
     "metadata": {},
     "output_type": "execute_result"
    }
   ],
   "source": [
    "encoder.decode(decryptor.decrypt(Ccol2))"
   ]
  },
  {
   "cell_type": "code",
   "execution_count": 31,
   "id": "3cf0fa93-230b-41b7-ba28-690a9e0582b2",
   "metadata": {},
   "outputs": [
    {
     "data": {
      "text/plain": [
       "array([70., 80., 50., 60.])"
      ]
     },
     "execution_count": 31,
     "metadata": {},
     "output_type": "execute_result"
    }
   ],
   "source": [
    "encoder.decode(decryptor.decrypt(Ccol3))"
   ]
  },
  {
   "cell_type": "code",
   "execution_count": 32,
   "id": "8ebaf6fe-65c1-40b8-87f1-4056d0e07cf0",
   "metadata": {},
   "outputs": [
    {
     "data": {
      "text/plain": [
       "array([80., 50., 60., 70.])"
      ]
     },
     "execution_count": 32,
     "metadata": {},
     "output_type": "execute_result"
    }
   ],
   "source": [
    "encoder.decode(decryptor.decrypt(Ccol4))"
   ]
  }
 ],
 "metadata": {
  "kernelspec": {
   "display_name": "Python 3 (ipykernel)",
   "language": "python",
   "name": "python3"
  },
  "language_info": {
   "codemirror_mode": {
    "name": "ipython",
    "version": 3
   },
   "file_extension": ".py",
   "mimetype": "text/x-python",
   "name": "python",
   "nbconvert_exporter": "python",
   "pygments_lexer": "ipython3",
   "version": "3.10.0"
  }
 },
 "nbformat": 4,
 "nbformat_minor": 5
}
