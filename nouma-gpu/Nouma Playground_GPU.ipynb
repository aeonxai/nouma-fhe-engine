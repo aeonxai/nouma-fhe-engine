{
 "cells": [
  {
   "cell_type": "code",
   "execution_count": 1,
   "id": "f1282fd5-28a3-4a8e-995e-d1754835190a",
   "metadata": {},
   "outputs": [],
   "source": [
    "import numpy as np"
   ]
  },
  {
   "cell_type": "code",
   "execution_count": 2,
   "id": "d310dac0-80b6-4e88-8efe-39d53d2ac745",
   "metadata": {},
   "outputs": [],
   "source": [
    "from nouma import EncryptionParameters, Context, CKKSEncoder, SecretKey, PublicKey, RelinKey, GaloisKey, dot_product"
   ]
  },
  {
   "cell_type": "code",
   "execution_count": 3,
   "id": "48001a25-42f5-45cb-85be-b362e9c9788f",
   "metadata": {},
   "outputs": [],
   "source": [
    "scale = 2**40\n",
    "\n",
    "parms = EncryptionParameters.new(8192, [60, 40, 40, 40])\n",
    "context = Context.new(parms)"
   ]
  },
  {
   "cell_type": "code",
   "execution_count": 4,
   "id": "7080fe17-4564-4288-8f63-b9534225439c",
   "metadata": {},
   "outputs": [],
   "source": [
    "encoder = CKKSEncoder.new(context)"
   ]
  },
  {
   "cell_type": "code",
   "execution_count": 5,
   "id": "ca82fe4a-0398-4cda-aaf1-fa55ab19d7ae",
   "metadata": {},
   "outputs": [],
   "source": [
    "secret_key = SecretKey.new(context)\n",
    "public_key = PublicKey.new(context, secret_key)\n",
    "relin_key = RelinKey.new(context, secret_key)\n",
    "galois_key = GaloisKey.new(context, secret_key)"
   ]
  },
  {
   "cell_type": "code",
   "execution_count": 6,
   "id": "72003d7d-2718-4e03-b655-3cfaf3a9eeba",
   "metadata": {},
   "outputs": [],
   "source": [
    "vec1 = np.array([1, 2, 3, 4], dtype=np.float64)\n",
    "vec2 = np.array([5, 6, 7, 8], dtype=np.float64)\n",
    "\n",
    "c1 = secret_key.encrypt(context, encoder.encode(context, vec1, scale))\n",
    "c2 = secret_key.encrypt(context, encoder.encode(context, vec2, scale))"
   ]
  },
  {
   "cell_type": "code",
   "execution_count": 7,
   "id": "a42d2107-0d28-46f5-b669-29d58a0c1f80",
   "metadata": {},
   "outputs": [],
   "source": [
    "c3 = dot_product(context, c1, c2, relin_key, galois_key)"
   ]
  },
  {
   "cell_type": "code",
   "execution_count": 8,
   "id": "3fe9c0ea-04fe-48f6-8cdc-5fdbe998c0ef",
   "metadata": {},
   "outputs": [],
   "source": [
    "vec3 = encoder.decode(context, secret_key.decrypt(context, c3))"
   ]
  },
  {
   "cell_type": "code",
   "execution_count": 9,
   "id": "d5f5e5b8-913f-4f1c-aa7e-491caef3dac8",
   "metadata": {},
   "outputs": [
    {
     "data": {
      "text/plain": [
       "array([70., 70., 70., 70.])"
      ]
     },
     "execution_count": 9,
     "metadata": {},
     "output_type": "execute_result"
    }
   ],
   "source": [
    "vec3"
   ]
  },
  {
   "cell_type": "code",
   "execution_count": null,
   "id": "a9830a19-ee63-454b-ae60-f2eb190c4f5d",
   "metadata": {},
   "outputs": [],
   "source": []
  }
 ],
 "metadata": {
  "kernelspec": {
   "display_name": "Python 3 (ipykernel)",
   "language": "python",
   "name": "python3"
  },
  "language_info": {
   "codemirror_mode": {
    "name": "ipython",
    "version": 3
   },
   "file_extension": ".py",
   "mimetype": "text/x-python",
   "name": "python",
   "nbconvert_exporter": "python",
   "pygments_lexer": "ipython3",
   "version": "3.11.0"
  }
 },
 "nbformat": 4,
 "nbformat_minor": 5
}
