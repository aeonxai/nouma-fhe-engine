{
 "cells": [
  {
   "cell_type": "code",
   "execution_count": 1,
   "id": "252d290a-7376-4966-94ff-7a6bd5088848",
   "metadata": {},
   "outputs": [],
   "source": [
    "import numpy as np"
   ]
  },
  {
   "cell_type": "code",
   "execution_count": 2,
   "id": "e2ecb0e6-eadf-46ac-b048-1a8aa0513649",
   "metadata": {},
   "outputs": [],
   "source": [
    "import nouma"
   ]
  },
  {
   "cell_type": "code",
   "execution_count": 3,
   "id": "b7b151c4-8e62-4e8a-9629-be6858301f3d",
   "metadata": {},
   "outputs": [],
   "source": [
    "scale = 2 ** 40\n",
    "parms = nouma.EncryptionParameters.new(8192, [60, 40, 40, 40])"
   ]
  },
  {
   "cell_type": "code",
   "execution_count": 4,
   "id": "3e482624-81a8-43c8-8890-7ba28ebed7f0",
   "metadata": {},
   "outputs": [],
   "source": [
    "context = nouma.SEALContext(parms)\n",
    "keygen = nouma.KeyGenerator(context)\n",
    "secret_key = keygen.secret_key()\n",
    "public_key = keygen.public_key()\n",
    "relin_keys = keygen.relin_keys()\n",
    "gal_keys = keygen.galois_keys()"
   ]
  },
  {
   "cell_type": "code",
   "execution_count": 5,
   "id": "c3653180-c8c7-41fa-a27e-5f2819636a15",
   "metadata": {},
   "outputs": [],
   "source": [
    "encoder = nouma.CKKSEncoder(context)\n",
    "encryptor = nouma.SymmetricEncryptor(context, secret_key)\n",
    "decryptor = nouma.Decryptor(context, secret_key)\n",
    "evaluator = nouma.Evaluator(context)"
   ]
  },
  {
   "cell_type": "code",
   "execution_count": 6,
   "id": "205ec130-b687-40d6-b381-9c507efe6cdc",
   "metadata": {},
   "outputs": [],
   "source": [
    "vector1 = np.array([1, 2, 3, 4, 5, 6, 7, 8, 9], dtype=np.float64)\n",
    "vector2 = np.array([9, 8, 7, 6, 5, 4, 3, 2, 1], dtype=np.float64)"
   ]
  },
  {
   "cell_type": "code",
   "execution_count": 7,
   "id": "a71d0de6-7a40-4c6d-bbf0-08b30e5fde69",
   "metadata": {},
   "outputs": [
    {
     "data": {
      "text/plain": [
       "165.0"
      ]
     },
     "execution_count": 7,
     "metadata": {},
     "output_type": "execute_result"
    }
   ],
   "source": [
    "np.sum(vector1 * vector2)"
   ]
  },
  {
   "cell_type": "code",
   "execution_count": 8,
   "id": "59533b1c-af96-47b9-a779-fc311f5f2626",
   "metadata": {},
   "outputs": [],
   "source": [
    "plaintext1 = encoder.encode(vector1, scale)\n",
    "plaintext2 = encoder.encode(vector2, scale)"
   ]
  },
  {
   "cell_type": "code",
   "execution_count": 9,
   "id": "16b59baf-217b-47dc-ad43-88008862a093",
   "metadata": {},
   "outputs": [],
   "source": [
    "ciphertext1 = encryptor.encrypt(plaintext1)\n",
    "ciphertext2 = encryptor.encrypt(plaintext2)"
   ]
  },
  {
   "cell_type": "code",
   "execution_count": 10,
   "id": "1fd950df-cfef-4c76-9333-d328947be3d3",
   "metadata": {},
   "outputs": [],
   "source": [
    "ciphertext3 = evaluator.dot_product(relin_keys, gal_keys, ciphertext1, ciphertext2)"
   ]
  },
  {
   "cell_type": "code",
   "execution_count": 11,
   "id": "97f6b32f-0c57-4666-b536-b8036f219402",
   "metadata": {},
   "outputs": [],
   "source": [
    "plaintext3 = decryptor.decrypt(ciphertext3)"
   ]
  },
  {
   "cell_type": "code",
   "execution_count": 12,
   "id": "39009c24-4587-4f0f-a18b-9a5734174528",
   "metadata": {},
   "outputs": [
    {
     "data": {
      "text/plain": [
       "array([165., 165., 165., 165., 165., 165., 165., 165., 165.])"
      ]
     },
     "execution_count": 12,
     "metadata": {},
     "output_type": "execute_result"
    }
   ],
   "source": [
    "encoder.decode(plaintext3)"
   ]
  },
  {
   "cell_type": "code",
   "execution_count": null,
   "id": "b8f8c414-287b-46f9-9fbf-795409bd019f",
   "metadata": {},
   "outputs": [],
   "source": []
  }
 ],
 "metadata": {
  "kernelspec": {
   "display_name": "Python 3 (ipykernel)",
   "language": "python",
   "name": "python3"
  },
  "language_info": {
   "codemirror_mode": {
    "name": "ipython",
    "version": 3
   },
   "file_extension": ".py",
   "mimetype": "text/x-python",
   "name": "python",
   "nbconvert_exporter": "python",
   "pygments_lexer": "ipython3",
   "version": "3.10.0"
  }
 },
 "nbformat": 4,
 "nbformat_minor": 5
}
